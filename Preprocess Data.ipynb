{
 "cells": [
  {
   "cell_type": "code",
   "execution_count": 41,
   "metadata": {},
   "outputs": [],
   "source": [
    "from pprint import pprint as _print\n",
    "from datetime import datetime\n",
    "import pandas as pd\n",
    "from tqdm import tqdm\n",
    "from joblib import dump"
   ]
  },
  {
   "cell_type": "code",
   "execution_count": 3,
   "metadata": {},
   "outputs": [],
   "source": [
    "def get_db(db_name):\n",
    "    from pymongo import MongoClient\n",
    "    client = MongoClient('localhost:27017')\n",
    "    db = client[db_name]\n",
    "    return db"
   ]
  },
  {
   "cell_type": "code",
   "execution_count": 4,
   "metadata": {},
   "outputs": [],
   "source": [
    "def show(db, collection, pipeline):\n",
    "    return [doc for doc in db[collection].aggregate(pipeline)]"
   ]
  },
  {
   "cell_type": "code",
   "execution_count": 5,
   "metadata": {},
   "outputs": [],
   "source": [
    "db = get_db('bugDup')"
   ]
  },
  {
   "cell_type": "markdown",
   "metadata": {},
   "source": [
    "## Number of bugs with duplicates"
   ]
  },
  {
   "cell_type": "code",
   "execution_count": 6,
   "metadata": {},
   "outputs": [],
   "source": [
    "match = {\n",
    "    \"$match\": {\n",
    "        # The complete match block\n",
    "        \"dup_id\": {\n",
    "            \"$ne\": [] # Duplicated is not equal to null\n",
    "        }\n",
    "    }\n",
    "}\n",
    "\n",
    "count = {\n",
    "    \"$count\": \"dup_id\"\n",
    "}"
   ]
  },
  {
   "cell_type": "code",
   "execution_count": 7,
   "metadata": {},
   "outputs": [],
   "source": [
    "n = show(db, 'mozilla', [match, count])"
   ]
  },
  {
   "cell_type": "code",
   "execution_count": 8,
   "metadata": {},
   "outputs": [
    {
     "data": {
      "text/plain": [
       "[{'dup_id': 176725}]"
      ]
     },
     "execution_count": 8,
     "metadata": {},
     "output_type": "execute_result"
    }
   ],
   "source": [
    "n"
   ]
  },
  {
   "cell_type": "markdown",
   "metadata": {},
   "source": [
    "## Total number of entries"
   ]
  },
  {
   "cell_type": "code",
   "execution_count": 9,
   "metadata": {},
   "outputs": [],
   "source": [
    "total = db.mozilla.count_documents({})"
   ]
  },
  {
   "cell_type": "code",
   "execution_count": 10,
   "metadata": {},
   "outputs": [],
   "source": [
    "processed_bug_ids = set()\n",
    "duplicated_bugs = set()\n",
    "normal_bugs = set()"
   ]
  },
  {
   "cell_type": "code",
   "execution_count": 19,
   "metadata": {},
   "outputs": [],
   "source": [
    "def preprocess(d, cols, date_lower=None, date_upper=None):\n",
    "    global processed_bug_ids\n",
    "    try:\n",
    "        # Convert the datetime into python datetime object\n",
    "        date = datetime.strptime(d['creation_ts'][:-6], \n",
    "                                 '%Y-%m-%d %H:%M:%S') # Without timezone\n",
    "\n",
    "        # Filter the datetime if needed\n",
    "        if date_lower:\n",
    "            lDate = datetime.strptime(date_lower,\n",
    "                                     '%Y-%m-%d')\n",
    "        else:\n",
    "            lDate = None\n",
    "\n",
    "        if date_upper:\n",
    "            uDate = datetime.strptime(date_upper,\n",
    "                                     '%Y-%m-%d')\n",
    "        else:\n",
    "            uDate = None\n",
    "\n",
    "        if lDate and uDate:\n",
    "            if date < lDate or date > uDate:\n",
    "                return None\n",
    "\n",
    "        # Check if the description and short_description is empty\n",
    "        if not d.get('description', False):\n",
    "            return None\n",
    "    \n",
    "        if len(d['description'].strip()) == 0 or len(d['short_desc']) == 0:\n",
    "            return None\n",
    "\n",
    "        # Don't process the same bug_id multiple times\n",
    "        if int(d['bug_id']) in processed_bug_ids:\n",
    "            return None\n",
    "        processed_bug_ids.add(int(d['bug_id']))\n",
    "\n",
    "        # Log the bugs with duplicates\n",
    "        if len(d['dup_id']) == 0:\n",
    "            normal_bugs.add(int(d['bug_id']))\n",
    "        else:\n",
    "            duplicated_bugs.add(int(d['bug_id']))\n",
    "\n",
    "        # Get the cleaned data\n",
    "        cleaned_data = {}\n",
    "        for col in cols:\n",
    "            if col == 'bug_id':\n",
    "                cleaned_data[col] = int(d[col])\n",
    "            elif col == 'dup_id':\n",
    "                if len(d[col]) == 0:\n",
    "                    cleaned_data[col] = None\n",
    "                else:\n",
    "                    cleaned_data[col] = d[col]\n",
    "\n",
    "            cleaned_data['date'] = date\n",
    "\n",
    "            if col in ['short_desc', 'priority',\n",
    "                      'component', 'bug_status',\n",
    "                      'resolution', 'description']:\n",
    "                cleaned_data[col] = d[col].strip().lower()\n",
    "            else:\n",
    "                cleaned_data[col] = d[col]\n",
    "        return cleaned_data\n",
    "    except KeyError as e1:\n",
    "        _print(d)\n",
    "        print('Keyerror', e1)\n",
    "        return\n",
    "    except AttributeError as e2:\n",
    "        _print(d)\n",
    "        print('AttributeError', e2)\n",
    "        return"
   ]
  },
  {
   "cell_type": "code",
   "execution_count": 20,
   "metadata": {},
   "outputs": [
    {
     "name": "stderr",
     "output_type": "stream",
     "text": [
      "100%|██████████| 768335/768335 [00:26<00:00, 29095.84it/s]\n"
     ]
    }
   ],
   "source": [
    "cols = ['bug_id', 'description', 'bug_severity',\n",
    "       'dup_id', 'short_desc', 'priority', 'component', 'resolution', \n",
    "        'bug_status', 'resolution']\n",
    "records = []\n",
    "for doc in tqdm(db.mozilla.find({}), total=total):\n",
    "    records.append(preprocess(doc, cols))"
   ]
  },
  {
   "cell_type": "code",
   "execution_count": 34,
   "metadata": {},
   "outputs": [],
   "source": [
    "finalDF = pd.DataFrame.from_records(list(filter(lambda x: x is not None, records)))"
   ]
  },
  {
   "cell_type": "code",
   "execution_count": 36,
   "metadata": {},
   "outputs": [],
   "source": [
    "finalDF['dup_id'] = finalDF.astype(str)"
   ]
  },
  {
   "cell_type": "code",
   "execution_count": 37,
   "metadata": {},
   "outputs": [],
   "source": [
    "finalDF.to_parquet('cleanedData.parquet.gzip', compression='gzip')"
   ]
  },
  {
   "cell_type": "code",
   "execution_count": 42,
   "metadata": {},
   "outputs": [
    {
     "data": {
      "text/plain": [
       "['normal_bugs']"
      ]
     },
     "execution_count": 42,
     "metadata": {},
     "output_type": "execute_result"
    }
   ],
   "source": [
    "dump(processed_bug_ids, 'processed_bug_ids')\n",
    "dump(duplicated_bugs, 'duplicated_bugs')\n",
    "dump(normal_bugs, 'normal_bugs')"
   ]
  },
  {
   "cell_type": "code",
   "execution_count": 43,
   "metadata": {},
   "outputs": [
    {
     "name": "stdout",
     "output_type": "stream",
     "text": [
      " cleanedData.parquet.gzip   normal_bugs\t\t     processed_bug_ids\r\n",
      " duplicated_bugs\t   'Preprocess Data.ipynb'\r\n"
     ]
    }
   ],
   "source": [
    "!ls"
   ]
  }
 ],
 "metadata": {
  "kernelspec": {
   "display_name": "Python 3",
   "language": "python",
   "name": "python3"
  },
  "language_info": {
   "codemirror_mode": {
    "name": "ipython",
    "version": 3
   },
   "file_extension": ".py",
   "mimetype": "text/x-python",
   "name": "python",
   "nbconvert_exporter": "python",
   "pygments_lexer": "ipython3",
   "version": "3.7.9"
  }
 },
 "nbformat": 4,
 "nbformat_minor": 4
}
